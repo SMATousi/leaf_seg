{
 "cells": [
  {
   "cell_type": "code",
   "execution_count": 4,
   "id": "0ac6eaf5",
   "metadata": {},
   "outputs": [],
   "source": [
    "import os\n",
    "import torch\n",
    "from torchvision import transforms\n",
    "from torch.utils.data import Dataset, DataLoader\n",
    "from PIL import Image\n",
    "import numpy as np"
   ]
  },
  {
   "cell_type": "code",
   "execution_count": 5,
   "id": "ea2bb1df",
   "metadata": {},
   "outputs": [],
   "source": [
    "\n",
    "\n",
    "class CustomDataset(Dataset):\n",
    "    def __init__(self, image_folder, label_folder, transform=None, threshold = 0):\n",
    "        self.image_folder = image_folder\n",
    "        self.label_folder = label_folder\n",
    "        self.threshold = threshold\n",
    "        self.transform = transform\n",
    "        self.image_filenames = sorted([f for f in os.listdir(image_folder) if f.endswith(\".jpg\")])\n",
    "        self.label_filenames = [f.replace(\".jpg\", \"_mask.jpg\") for f in self.image_filenames]\n",
    "\n",
    "    def __len__(self):\n",
    "        return len(self.image_filenames)\n",
    "\n",
    "    def __getitem__(self, idx):\n",
    "        image_filename = self.image_filenames[idx]\n",
    "        label_filename = self.label_filenames[idx]\n",
    "\n",
    "        image_path = os.path.join(self.image_folder, image_filename)\n",
    "        label_path = os.path.join(self.label_folder, label_filename)\n",
    "\n",
    "        image = Image.open(image_path).convert(\"RGB\")\n",
    "        label = Image.open(label_path).convert(\"L\")\n",
    "        \n",
    "        \n",
    "\n",
    "        if self.transform:\n",
    "            image = self.transform(image)\n",
    "            label = self.transform(label)\n",
    "        \n",
    "        label = np.array(label)\n",
    "        label = (label > self.threshold).astype(np.float32)\n",
    "        \n",
    "\n",
    "        return image, label"
   ]
  },
  {
   "cell_type": "code",
   "execution_count": 6,
   "id": "ac8b3f94",
   "metadata": {},
   "outputs": [],
   "source": [
    "transform = transforms.Compose([\n",
    "#     transforms.Resize((448, 448)),\n",
    "    transforms.RandomHorizontalFlip(),\n",
    "    transforms.RandomVerticalFlip(),\n",
    "#     transforms.ColorJitter(brightness=0.2, contrast=0.2, saturation=0.2, hue=0.1),\n",
    "    transforms.ToTensor(),\n",
    "])"
   ]
  },
  {
   "cell_type": "code",
   "execution_count": 7,
   "id": "2944a2ba",
   "metadata": {},
   "outputs": [],
   "source": [
    "image_folder = \"/home/macula/SMATousi/Gullies/ground_truth/leaf_vein_seg/sorted_data/images_448/\"\n",
    "label_folder = \"/home/macula/SMATousi/Gullies/ground_truth/leaf_vein_seg/sorted_data/labels_448/\""
   ]
  },
  {
   "cell_type": "code",
   "execution_count": 8,
   "id": "51441532",
   "metadata": {},
   "outputs": [],
   "source": [
    "custom_dataset = CustomDataset(image_folder, label_folder, transform, threshold=0)"
   ]
  },
  {
   "cell_type": "code",
   "execution_count": 9,
   "id": "5890e757",
   "metadata": {},
   "outputs": [],
   "source": [
    "batch_size = 32\n",
    "data_loader = DataLoader(custom_dataset, batch_size=batch_size, shuffle=False)"
   ]
  },
  {
   "cell_type": "code",
   "execution_count": 10,
   "id": "c0aaf4ce",
   "metadata": {},
   "outputs": [],
   "source": [
    "image, label = next(iter(data_loader))"
   ]
  },
  {
   "cell_type": "code",
   "execution_count": 11,
   "id": "dd45fe11",
   "metadata": {},
   "outputs": [
    {
     "data": {
      "text/plain": [
       "torch.Size([32, 1, 448, 448])"
      ]
     },
     "execution_count": 11,
     "metadata": {},
     "output_type": "execute_result"
    }
   ],
   "source": [
    "label.shape"
   ]
  },
  {
   "cell_type": "code",
   "execution_count": null,
   "id": "b8f15671",
   "metadata": {},
   "outputs": [],
   "source": []
  },
  {
   "cell_type": "code",
   "execution_count": null,
   "id": "06c988c4",
   "metadata": {},
   "outputs": [],
   "source": []
  },
  {
   "cell_type": "code",
   "execution_count": null,
   "id": "12b9c48c",
   "metadata": {},
   "outputs": [],
   "source": []
  },
  {
   "cell_type": "code",
   "execution_count": null,
   "id": "7ffa7133",
   "metadata": {},
   "outputs": [],
   "source": []
  },
  {
   "cell_type": "code",
   "execution_count": null,
   "id": "8a638850",
   "metadata": {},
   "outputs": [],
   "source": []
  },
  {
   "cell_type": "code",
   "execution_count": null,
   "id": "e068fb8b",
   "metadata": {},
   "outputs": [],
   "source": []
  },
  {
   "cell_type": "code",
   "execution_count": 30,
   "id": "9417087a",
   "metadata": {},
   "outputs": [
    {
     "ename": "FileNotFoundError",
     "evalue": "[Errno 2] No such file or directory: '/home/macula/SMATousi/Gullies/ground_truth/leaf_vein_seg/sorted_data/labels/1_Walnut_labels5_0003_背景 3.jpg'",
     "output_type": "error",
     "traceback": [
      "\u001b[0;31m---------------------------------------------------------------------------\u001b[0m",
      "\u001b[0;31mFileNotFoundError\u001b[0m                         Traceback (most recent call last)",
      "\u001b[0;32m/tmp/ipykernel_1264170/2233036872.py\u001b[0m in \u001b[0;36m<module>\u001b[0;34m\u001b[0m\n\u001b[0;32m----> 1\u001b[0;31m \u001b[0mImage\u001b[0m\u001b[0;34m.\u001b[0m\u001b[0mopen\u001b[0m\u001b[0;34m(\u001b[0m\u001b[0;34m\"/home/macula/SMATousi/Gullies/ground_truth/leaf_vein_seg/sorted_data/labels/1_Walnut_labels5_0003_背景 3.jpg\"\u001b[0m\u001b[0;34m)\u001b[0m\u001b[0;34m.\u001b[0m\u001b[0mconvert\u001b[0m\u001b[0;34m(\u001b[0m\u001b[0;34m\"RGB\"\u001b[0m\u001b[0;34m)\u001b[0m\u001b[0;34m\u001b[0m\u001b[0;34m\u001b[0m\u001b[0m\n\u001b[0m\u001b[1;32m      2\u001b[0m \u001b[0;34m\u001b[0m\u001b[0m\n\u001b[1;32m      3\u001b[0m \u001b[0;34m\u001b[0m\u001b[0m\n\u001b[1;32m      4\u001b[0m \u001b[0;34m\u001b[0m\u001b[0m\n",
      "\u001b[0;32m~/.conda/envs/mac-deep/lib/python3.7/site-packages/PIL/Image.py\u001b[0m in \u001b[0;36mopen\u001b[0;34m(fp, mode, formats)\u001b[0m\n\u001b[1;32m   2951\u001b[0m \u001b[0;34m\u001b[0m\u001b[0m\n\u001b[1;32m   2952\u001b[0m     \u001b[0;32mif\u001b[0m \u001b[0mfilename\u001b[0m\u001b[0;34m:\u001b[0m\u001b[0;34m\u001b[0m\u001b[0;34m\u001b[0m\u001b[0m\n\u001b[0;32m-> 2953\u001b[0;31m         \u001b[0mfp\u001b[0m \u001b[0;34m=\u001b[0m \u001b[0mbuiltins\u001b[0m\u001b[0;34m.\u001b[0m\u001b[0mopen\u001b[0m\u001b[0;34m(\u001b[0m\u001b[0mfilename\u001b[0m\u001b[0;34m,\u001b[0m \u001b[0;34m\"rb\"\u001b[0m\u001b[0;34m)\u001b[0m\u001b[0;34m\u001b[0m\u001b[0;34m\u001b[0m\u001b[0m\n\u001b[0m\u001b[1;32m   2954\u001b[0m         \u001b[0mexclusive_fp\u001b[0m \u001b[0;34m=\u001b[0m \u001b[0;32mTrue\u001b[0m\u001b[0;34m\u001b[0m\u001b[0;34m\u001b[0m\u001b[0m\n\u001b[1;32m   2955\u001b[0m \u001b[0;34m\u001b[0m\u001b[0m\n",
      "\u001b[0;31mFileNotFoundError\u001b[0m: [Errno 2] No such file or directory: '/home/macula/SMATousi/Gullies/ground_truth/leaf_vein_seg/sorted_data/labels/1_Walnut_labels5_0003_背景 3.jpg'"
     ]
    }
   ],
   "source": [
    "Image.open(\"/home/macula/SMATousi/Gullies/ground_truth/leaf_vein_seg/sorted_data/labels/1_Walnut_labels5_0000_图层 3.jpg\").convert(\"RGB\")\n",
    "\n",
    "\n",
    "\n"
   ]
  },
  {
   "cell_type": "code",
   "execution_count": 68,
   "id": "f6ca38a0",
   "metadata": {},
   "outputs": [],
   "source": [
    "file_directory = \"/home/macula/SMATousi/Gullies/ground_truth/leaf_vein_seg/sorted_data/labels/\"\n",
    "\n",
    "for old_file_name in os.listdir(file_directory):\n",
    "    \n",
    "#     print(old_file_name)\n",
    "#     break\n",
    "    # Split the filename by the \"_\" character\n",
    "    parts = old_file_name.split(\"_\")\n",
    "\n",
    "    # Join the parts except the one containing \"图层\" to create the new filename\n",
    "    new_filename = \"_\".join([part for part in parts if \"000\" not in part])\n",
    "#     print(new_filename)\n",
    "#     break\n",
    "    # Get the directory path of the file\n",
    "    # Replace with the actual directory path\n",
    "\n",
    "    # Create the full path for both old and new filenames\n",
    "    old_filepath = os.path.join(file_directory, old_file_name)\n",
    "    new_filepath = os.path.join(file_directory, new_filename + \".jpg\")\n",
    "    \n",
    "#     print(old_filepath)\n",
    "#     print(new_filepath)\n",
    "#     break\n",
    "\n",
    "    # Rename the file\n",
    "    os.rename(old_filepath, new_filepath)"
   ]
  },
  {
   "cell_type": "code",
   "execution_count": 33,
   "id": "13474faf",
   "metadata": {},
   "outputs": [],
   "source": [
    "os.rename(\"/home/macula/SMATousi/Gullies/ground_truth/leaf_vein_seg/sorted_data/labels/1_Walnut_labels5_0000\", \n",
    "          \"/home/macula/SMATousi/Gullies/ground_truth/leaf_vein_seg/sorted_data/labels/1_Walnut_labels5_0000.jpg\")"
   ]
  },
  {
   "cell_type": "code",
   "execution_count": 69,
   "id": "695786e4",
   "metadata": {},
   "outputs": [],
   "source": [
    "file_directory = \"/home/macula/SMATousi/Gullies/ground_truth/leaf_vein_seg/sorted_data/labels/\"\n",
    "\n",
    "for old_file_name in os.listdir(file_directory):\n",
    "    \n",
    "    if old_file_name.endswith(\".jpg.jpg\"):\n",
    "        \n",
    "        parts = old_file_name.split(\".\")\n",
    "        \n",
    "        new_file_name = parts[0]\n",
    "        \n",
    "        old_filepath = os.path.join(file_directory, old_file_name)\n",
    "        new_filepath = os.path.join(file_directory, new_file_name + \".jpg\")\n",
    "        \n",
    "        os.rename(old_filepath, new_filepath)\n",
    "#         print(\"FUCK\")"
   ]
  },
  {
   "cell_type": "code",
   "execution_count": null,
   "id": "a79e4d55",
   "metadata": {},
   "outputs": [],
   "source": []
  },
  {
   "cell_type": "code",
   "execution_count": null,
   "id": "f196c3fc",
   "metadata": {},
   "outputs": [],
   "source": []
  },
  {
   "cell_type": "code",
   "execution_count": null,
   "id": "b2da98c9",
   "metadata": {},
   "outputs": [],
   "source": []
  },
  {
   "cell_type": "code",
   "execution_count": null,
   "id": "5d665478",
   "metadata": {},
   "outputs": [],
   "source": []
  },
  {
   "cell_type": "code",
   "execution_count": null,
   "id": "890c04f5",
   "metadata": {},
   "outputs": [],
   "source": []
  },
  {
   "cell_type": "code",
   "execution_count": null,
   "id": "e2bc8b9e",
   "metadata": {},
   "outputs": [],
   "source": []
  },
  {
   "cell_type": "code",
   "execution_count": 3,
   "id": "3e81a9fe",
   "metadata": {},
   "outputs": [
    {
     "name": "stderr",
     "output_type": "stream",
     "text": [
      " 64%|████████████████████████████████                  | 3038/4746 [12:45<07:06,  4.01it/s]"
     ]
    },
    {
     "name": "stdout",
     "output_type": "stream",
     "text": [
      "Error processing _mask.jpg: [Errno 21] Is a directory: '../sorted_data/labels/_mask.jpg'\n"
     ]
    },
    {
     "name": "stderr",
     "output_type": "stream",
     "text": [
      "100%|██████████████████████████████████████████████████| 4746/4746 [19:57<00:00,  3.96it/s]\n"
     ]
    }
   ],
   "source": [
    "from PIL import Image\n",
    "import os\n",
    "from tqdm import tqdm\n",
    "\n",
    "# Input and output directories\n",
    "input_dir = \"../sorted_data/labels/\"\n",
    "output_dir = \"../sorted_data/labels_448/\"\n",
    "output_size = (448, 448)  # Specify the desired output size (width, height)\n",
    "\n",
    "# Create the output directory if it doesn't exist\n",
    "if not os.path.exists(output_dir):\n",
    "    os.makedirs(output_dir)\n",
    "\n",
    "# List all files in the input directory\n",
    "file_list = os.listdir(input_dir)\n",
    "\n",
    "for filename in tqdm(file_list):\n",
    "    # Check if the file is an image (you can add more extensions if needed)\n",
    "    if filename.endswith((\".jpg\", \".jpeg\", \".png\", \".gif\")):\n",
    "        try:\n",
    "            # Open the image using Pillow\n",
    "            img = Image.open(os.path.join(input_dir, filename))\n",
    "\n",
    "            # Resize the image\n",
    "            img = img.resize(output_size, Image.ANTIALIAS)\n",
    "\n",
    "            # Save the resized image to the output directory\n",
    "            img.save(os.path.join(output_dir, filename))\n",
    "#             print(f\"Resized and saved: {filename}\")\n",
    "        except Exception as e:\n",
    "            print(f\"Error processing {filename}: {e}\")"
   ]
  },
  {
   "cell_type": "code",
   "execution_count": null,
   "id": "8f865328",
   "metadata": {},
   "outputs": [],
   "source": []
  }
 ],
 "metadata": {
  "kernelspec": {
   "display_name": "Python 3 (ipykernel)",
   "language": "python",
   "name": "python3"
  },
  "language_info": {
   "codemirror_mode": {
    "name": "ipython",
    "version": 3
   },
   "file_extension": ".py",
   "mimetype": "text/x-python",
   "name": "python",
   "nbconvert_exporter": "python",
   "pygments_lexer": "ipython3",
   "version": "3.7.13"
  }
 },
 "nbformat": 4,
 "nbformat_minor": 5
}
